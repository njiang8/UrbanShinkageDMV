{
 "cells": [
  {
   "cell_type": "code",
   "execution_count": 1,
   "metadata": {},
   "outputs": [],
   "source": [
    "import pandas as pd\n",
    "import geopandas as gpd"
   ]
  },
  {
   "cell_type": "code",
   "execution_count": 2,
   "metadata": {},
   "outputs": [],
   "source": [
    "shp = gpd.read_file('Detroit_Tri_county.shp')"
   ]
  },
  {
   "cell_type": "code",
   "execution_count": 3,
   "metadata": {},
   "outputs": [
    {
     "data": {
      "text/html": [
       "<div>\n",
       "<style scoped>\n",
       "    .dataframe tbody tr th:only-of-type {\n",
       "        vertical-align: middle;\n",
       "    }\n",
       "\n",
       "    .dataframe tbody tr th {\n",
       "        vertical-align: top;\n",
       "    }\n",
       "\n",
       "    .dataframe thead th {\n",
       "        text-align: right;\n",
       "    }\n",
       "</style>\n",
       "<table border=\"1\" class=\"dataframe\">\n",
       "  <thead>\n",
       "    <tr style=\"text-align: right;\">\n",
       "      <th></th>\n",
       "      <th>LINK</th>\n",
       "      <th>NT</th>\n",
       "      <th>GEOID</th>\n",
       "      <th>HU_C</th>\n",
       "      <th>HU_I_50K</th>\n",
       "      <th>HU_I_75K</th>\n",
       "      <th>HU_I_150K</th>\n",
       "      <th>HU_I_M150K</th>\n",
       "      <th>HU_V_K</th>\n",
       "      <th>HU_VQ_K</th>\n",
       "      <th>H_EM_R</th>\n",
       "      <th>geometry</th>\n",
       "    </tr>\n",
       "  </thead>\n",
       "  <tbody>\n",
       "    <tr>\n",
       "      <td>0</td>\n",
       "      <td>099210000</td>\n",
       "      <td>3</td>\n",
       "      <td>26099210000</td>\n",
       "      <td>1476</td>\n",
       "      <td>5</td>\n",
       "      <td>3</td>\n",
       "      <td>6</td>\n",
       "      <td>1</td>\n",
       "      <td>203.9</td>\n",
       "      <td>142.9</td>\n",
       "      <td>58.3</td>\n",
       "      <td>POLYGON ((-82.86358 42.82134, -82.86359 42.821...</td>\n",
       "    </tr>\n",
       "    <tr>\n",
       "      <td>1</td>\n",
       "      <td>099212000</td>\n",
       "      <td>3</td>\n",
       "      <td>26099212000</td>\n",
       "      <td>1864</td>\n",
       "      <td>6</td>\n",
       "      <td>4</td>\n",
       "      <td>7</td>\n",
       "      <td>1</td>\n",
       "      <td>196.2</td>\n",
       "      <td>143.4</td>\n",
       "      <td>58.5</td>\n",
       "      <td>POLYGON ((-82.98035 42.81107, -82.98049 42.815...</td>\n",
       "    </tr>\n",
       "    <tr>\n",
       "      <td>2</td>\n",
       "      <td>099214000</td>\n",
       "      <td>3</td>\n",
       "      <td>26099214000</td>\n",
       "      <td>992</td>\n",
       "      <td>6</td>\n",
       "      <td>1</td>\n",
       "      <td>3</td>\n",
       "      <td>1</td>\n",
       "      <td>181.3</td>\n",
       "      <td>29.2</td>\n",
       "      <td>55.2</td>\n",
       "      <td>POLYGON ((-83.01996 42.82276, -83.01998 42.823...</td>\n",
       "    </tr>\n",
       "    <tr>\n",
       "      <td>3</td>\n",
       "      <td>099214500</td>\n",
       "      <td>3</td>\n",
       "      <td>26099214500</td>\n",
       "      <td>1322</td>\n",
       "      <td>1</td>\n",
       "      <td>4</td>\n",
       "      <td>5</td>\n",
       "      <td>3</td>\n",
       "      <td>289.3</td>\n",
       "      <td>196.9</td>\n",
       "      <td>56.8</td>\n",
       "      <td>POLYGON ((-83.01834 42.80995, -83.01941 42.809...</td>\n",
       "    </tr>\n",
       "    <tr>\n",
       "      <td>4</td>\n",
       "      <td>099211000</td>\n",
       "      <td>3</td>\n",
       "      <td>26099211000</td>\n",
       "      <td>2412</td>\n",
       "      <td>11</td>\n",
       "      <td>6</td>\n",
       "      <td>7</td>\n",
       "      <td>1</td>\n",
       "      <td>150.2</td>\n",
       "      <td>107.5</td>\n",
       "      <td>56</td>\n",
       "      <td>POLYGON ((-82.75325 42.79805, -82.75315 42.798...</td>\n",
       "    </tr>\n",
       "  </tbody>\n",
       "</table>\n",
       "</div>"
      ],
      "text/plain": [
       "        LINK  NT        GEOID  HU_C  HU_I_50K HU_I_75K HU_I_150K HU_I_M150K  \\\n",
       "0  099210000   3  26099210000  1476         5        3         6          1   \n",
       "1  099212000   3  26099212000  1864         6        4         7          1   \n",
       "2  099214000   3  26099214000   992         6        1         3          1   \n",
       "3  099214500   3  26099214500  1322         1        4         5          3   \n",
       "4  099211000   3  26099211000  2412        11        6         7          1   \n",
       "\n",
       "   HU_V_K  HU_VQ_K H_EM_R                                           geometry  \n",
       "0   203.9    142.9   58.3  POLYGON ((-82.86358 42.82134, -82.86359 42.821...  \n",
       "1   196.2    143.4   58.5  POLYGON ((-82.98035 42.81107, -82.98049 42.815...  \n",
       "2   181.3     29.2   55.2  POLYGON ((-83.01996 42.82276, -83.01998 42.823...  \n",
       "3   289.3    196.9   56.8  POLYGON ((-83.01834 42.80995, -83.01941 42.809...  \n",
       "4   150.2    107.5     56  POLYGON ((-82.75325 42.79805, -82.75315 42.798...  "
      ]
     },
     "execution_count": 3,
     "metadata": {},
     "output_type": "execute_result"
    }
   ],
   "source": [
    "shp.head()"
   ]
  },
  {
   "cell_type": "code",
   "execution_count": 16,
   "metadata": {},
   "outputs": [
    {
     "data": {
      "text/plain": [
       "LINK            object\n",
       "NT               int64\n",
       "GEOID            int64\n",
       "HU_C             int64\n",
       "HU_I_50K         int64\n",
       "HU_I_75K         int64\n",
       "HU_I_150K        int64\n",
       "HU_I_M150K       int64\n",
       "HU_V_K         float64\n",
       "HU_VQ_K        float64\n",
       "H_EM_R         float64\n",
       "geometry      geometry\n",
       "dtype: object"
      ]
     },
     "execution_count": 16,
     "metadata": {},
     "output_type": "execute_result"
    }
   ],
   "source": [
    "shp.dtypes"
   ]
  },
  {
   "cell_type": "code",
   "execution_count": 6,
   "metadata": {},
   "outputs": [],
   "source": [
    "shp['H_EM_R'] = shp['H_EM_R'].astype(float)"
   ]
  },
  {
   "cell_type": "code",
   "execution_count": 15,
   "metadata": {},
   "outputs": [],
   "source": [
    "shp['HU_I_75K'] = shp['HU_I_75K'].astype(int)\n",
    "shp['HU_I_150K'] = shp['HU_I_150K'].astype(int)"
   ]
  },
  {
   "cell_type": "code",
   "execution_count": 17,
   "metadata": {},
   "outputs": [],
   "source": [
    "shp.to_file('Detroit_Tri_county.shp',driver ='ESRI Shapefile')"
   ]
  },
  {
   "cell_type": "code",
   "execution_count": null,
   "metadata": {},
   "outputs": [],
   "source": []
  }
 ],
 "metadata": {
  "kernelspec": {
   "display_name": "Python 3",
   "language": "python",
   "name": "python3"
  },
  "language_info": {
   "codemirror_mode": {
    "name": "ipython",
    "version": 3
   },
   "file_extension": ".py",
   "mimetype": "text/x-python",
   "name": "python",
   "nbconvert_exporter": "python",
   "pygments_lexer": "ipython3",
   "version": "3.7.4"
  }
 },
 "nbformat": 4,
 "nbformat_minor": 2
}
